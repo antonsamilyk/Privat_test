{
 "cells": [
  {
   "cell_type": "markdown",
   "metadata": {},
   "source": [
    "# Тестове завдання на позицію Data scіentist Junior (PrivatBank)"
   ]
  },
  {
   "cell_type": "markdown",
   "metadata": {},
   "source": [
    "## Завдання:\n",
    "Маємо файл з даними 'train_df.csv'.\n",
    "Поля:\n",
    "id - ідентифікатор об'єкта,\n",
    "gb - target\n",
    "\n",
    "Поля, що починаються на \"cat_\" - категоріальні\n",
    "Поля, що починаються на \"num_\" – числові.\n",
    "\n",
    "Суть завдання – побудувати модель бінарної класифікації на Python."
   ]
  },
  {
   "cell_type": "markdown",
   "metadata": {},
   "source": [
    "## Імпортуємо потрібні бібліотеки "
   ]
  },
  {
   "cell_type": "code",
   "execution_count": 29,
   "metadata": {},
   "outputs": [],
   "source": [
    "import pandas as pd\n",
    "import numpy as np\n",
    "import matplotlib.pyplot as plt\n",
    "import seaborn as sns\n",
    "from sklearn.model_selection import train_test_split, GridSearchCV\n",
    "from sklearn.compose import ColumnTransformer\n",
    "from sklearn.pipeline import Pipeline\n",
    "from sklearn.impute import SimpleImputer\n",
    "from sklearn.preprocessing import StandardScaler, OneHotEncoder\n",
    "from sklearn.ensemble import RandomForestClassifier\n",
    "from sklearn.metrics import f1_score\n",
    "from sklearn.metrics import confusion_matrix\n",
    "%matplotlib inline"
   ]
  },
  {
   "cell_type": "markdown",
   "metadata": {},
   "source": [
    "## Зчитуємо та оглядаємо дані"
   ]
  },
  {
   "cell_type": "code",
   "execution_count": 2,
   "metadata": {},
   "outputs": [],
   "source": [
    "df = pd.read_csv('train_df.csv', header = 0, sep = '\\t', index_col = 0)"
   ]
  },
  {
   "cell_type": "code",
   "execution_count": 3,
   "metadata": {},
   "outputs": [
    {
     "name": "stdout",
     "output_type": "stream",
     "text": [
      "<class 'pandas.core.frame.DataFrame'>\n",
      "Int64Index: 26824 entries, 0 to 61111\n",
      "Columns: 553 entries, num_1 to gb\n",
      "dtypes: float64(416), int64(137)\n",
      "memory usage: 113.4 MB\n"
     ]
    }
   ],
   "source": [
    "df.info()"
   ]
  },
  {
   "cell_type": "code",
   "execution_count": 4,
   "metadata": {},
   "outputs": [
    {
     "data": {
      "text/html": [
       "<div>\n",
       "<style scoped>\n",
       "    .dataframe tbody tr th:only-of-type {\n",
       "        vertical-align: middle;\n",
       "    }\n",
       "\n",
       "    .dataframe tbody tr th {\n",
       "        vertical-align: top;\n",
       "    }\n",
       "\n",
       "    .dataframe thead th {\n",
       "        text-align: right;\n",
       "    }\n",
       "</style>\n",
       "<table border=\"1\" class=\"dataframe\">\n",
       "  <thead>\n",
       "    <tr style=\"text-align: right;\">\n",
       "      <th></th>\n",
       "      <th>num_1</th>\n",
       "      <th>num_2</th>\n",
       "      <th>num_3</th>\n",
       "      <th>num_4</th>\n",
       "      <th>num_5</th>\n",
       "      <th>num_6</th>\n",
       "      <th>num_7</th>\n",
       "      <th>cat_1</th>\n",
       "      <th>num_8</th>\n",
       "      <th>num_9</th>\n",
       "      <th>...</th>\n",
       "      <th>num_413</th>\n",
       "      <th>cat_132</th>\n",
       "      <th>cat_133</th>\n",
       "      <th>num_414</th>\n",
       "      <th>num_415</th>\n",
       "      <th>num_416</th>\n",
       "      <th>cat_134</th>\n",
       "      <th>cat_135</th>\n",
       "      <th>id</th>\n",
       "      <th>gb</th>\n",
       "    </tr>\n",
       "  </thead>\n",
       "  <tbody>\n",
       "    <tr>\n",
       "      <th>0</th>\n",
       "      <td>1377.3</td>\n",
       "      <td>3712.9</td>\n",
       "      <td>NaN</td>\n",
       "      <td>1303.0</td>\n",
       "      <td>2409.0</td>\n",
       "      <td>1281.7</td>\n",
       "      <td>43.0</td>\n",
       "      <td>1</td>\n",
       "      <td>195.0</td>\n",
       "      <td>NaN</td>\n",
       "      <td>...</td>\n",
       "      <td>11327.5</td>\n",
       "      <td>1</td>\n",
       "      <td>1</td>\n",
       "      <td>28162496.65</td>\n",
       "      <td>0.0</td>\n",
       "      <td>0.07</td>\n",
       "      <td>1</td>\n",
       "      <td>1</td>\n",
       "      <td>1</td>\n",
       "      <td>0</td>\n",
       "    </tr>\n",
       "    <tr>\n",
       "      <th>1</th>\n",
       "      <td>20.0</td>\n",
       "      <td>13.4</td>\n",
       "      <td>NaN</td>\n",
       "      <td>565.0</td>\n",
       "      <td>NaN</td>\n",
       "      <td>357.2</td>\n",
       "      <td>19.0</td>\n",
       "      <td>1</td>\n",
       "      <td>170.0</td>\n",
       "      <td>NaN</td>\n",
       "      <td>...</td>\n",
       "      <td>168.6</td>\n",
       "      <td>1</td>\n",
       "      <td>1</td>\n",
       "      <td>989383.82</td>\n",
       "      <td>0.0</td>\n",
       "      <td>0.56</td>\n",
       "      <td>2</td>\n",
       "      <td>1</td>\n",
       "      <td>2</td>\n",
       "      <td>0</td>\n",
       "    </tr>\n",
       "    <tr>\n",
       "      <th>4</th>\n",
       "      <td>150.6</td>\n",
       "      <td>1.8</td>\n",
       "      <td>NaN</td>\n",
       "      <td>2294.0</td>\n",
       "      <td>15.0</td>\n",
       "      <td>107.6</td>\n",
       "      <td>76.0</td>\n",
       "      <td>1</td>\n",
       "      <td>196.0</td>\n",
       "      <td>2.3</td>\n",
       "      <td>...</td>\n",
       "      <td>209.1</td>\n",
       "      <td>1</td>\n",
       "      <td>1</td>\n",
       "      <td>87444.51</td>\n",
       "      <td>0.0</td>\n",
       "      <td>0.01</td>\n",
       "      <td>3</td>\n",
       "      <td>1</td>\n",
       "      <td>3</td>\n",
       "      <td>0</td>\n",
       "    </tr>\n",
       "    <tr>\n",
       "      <th>5</th>\n",
       "      <td>11.4</td>\n",
       "      <td>178.0</td>\n",
       "      <td>NaN</td>\n",
       "      <td>1236.0</td>\n",
       "      <td>NaN</td>\n",
       "      <td>350.6</td>\n",
       "      <td>41.0</td>\n",
       "      <td>1</td>\n",
       "      <td>117.0</td>\n",
       "      <td>5.3</td>\n",
       "      <td>...</td>\n",
       "      <td>56.9</td>\n",
       "      <td>1</td>\n",
       "      <td>1</td>\n",
       "      <td>297608.00</td>\n",
       "      <td>0.0</td>\n",
       "      <td>0.08</td>\n",
       "      <td>4</td>\n",
       "      <td>1</td>\n",
       "      <td>4</td>\n",
       "      <td>0</td>\n",
       "    </tr>\n",
       "    <tr>\n",
       "      <th>6</th>\n",
       "      <td>5372.0</td>\n",
       "      <td>3386.0</td>\n",
       "      <td>NaN</td>\n",
       "      <td>1340.0</td>\n",
       "      <td>NaN</td>\n",
       "      <td>14.0</td>\n",
       "      <td>45.0</td>\n",
       "      <td>1</td>\n",
       "      <td>9.0</td>\n",
       "      <td>108.0</td>\n",
       "      <td>...</td>\n",
       "      <td>31.0</td>\n",
       "      <td>1</td>\n",
       "      <td>1</td>\n",
       "      <td>6614247.89</td>\n",
       "      <td>0.0</td>\n",
       "      <td>0.20</td>\n",
       "      <td>1</td>\n",
       "      <td>1</td>\n",
       "      <td>5</td>\n",
       "      <td>0</td>\n",
       "    </tr>\n",
       "  </tbody>\n",
       "</table>\n",
       "<p>5 rows × 553 columns</p>\n",
       "</div>"
      ],
      "text/plain": [
       "    num_1   num_2  num_3   num_4   num_5   num_6  num_7  cat_1  num_8  num_9  \\\n",
       "0  1377.3  3712.9    NaN  1303.0  2409.0  1281.7   43.0      1  195.0    NaN   \n",
       "1    20.0    13.4    NaN   565.0     NaN   357.2   19.0      1  170.0    NaN   \n",
       "4   150.6     1.8    NaN  2294.0    15.0   107.6   76.0      1  196.0    2.3   \n",
       "5    11.4   178.0    NaN  1236.0     NaN   350.6   41.0      1  117.0    5.3   \n",
       "6  5372.0  3386.0    NaN  1340.0     NaN    14.0   45.0      1    9.0  108.0   \n",
       "\n",
       "   ...  num_413  cat_132  cat_133      num_414  num_415  num_416  cat_134  \\\n",
       "0  ...  11327.5        1        1  28162496.65      0.0     0.07        1   \n",
       "1  ...    168.6        1        1    989383.82      0.0     0.56        2   \n",
       "4  ...    209.1        1        1     87444.51      0.0     0.01        3   \n",
       "5  ...     56.9        1        1    297608.00      0.0     0.08        4   \n",
       "6  ...     31.0        1        1   6614247.89      0.0     0.20        1   \n",
       "\n",
       "   cat_135  id  gb  \n",
       "0        1   1   0  \n",
       "1        1   2   0  \n",
       "4        1   3   0  \n",
       "5        1   4   0  \n",
       "6        1   5   0  \n",
       "\n",
       "[5 rows x 553 columns]"
      ]
     },
     "execution_count": 4,
     "metadata": {},
     "output_type": "execute_result"
    }
   ],
   "source": [
    "df.head()"
   ]
  },
  {
   "cell_type": "markdown",
   "metadata": {},
   "source": [
    "### Подвимося на пропуски"
   ]
  },
  {
   "cell_type": "code",
   "execution_count": 5,
   "metadata": {},
   "outputs": [],
   "source": [
    "nan_values = pd.DataFrame(df.isna().sum()).sort_values(by = 0, ascending=False)"
   ]
  },
  {
   "cell_type": "code",
   "execution_count": 6,
   "metadata": {
    "scrolled": true
   },
   "outputs": [
    {
     "name": "stdout",
     "output_type": "stream",
     "text": [
      "Дані мають 172 колонок, в яких пропущено 30% або більше значень, видалимо проблемні колонки.\n",
      "Після видалення, кількість атрибутів = 381\n"
     ]
    }
   ],
   "source": [
    "count_of_nan = nan_values[nan_values[0] >= df.shape[0]*0.3].count()[0]\n",
    "print(f\"Дані мають {count_of_nan} колонок, в яких пропущено 30% або більше значень, видалимо проблемні колонки.\")\n",
    "df_without_nan = df.dropna(axis = 1, thresh=df.shape[0]*0.7, inplace = False)\n",
    "print(f\"Після видалення, кількість атрибутів = {df_without_nan.shape[1]}\")"
   ]
  },
  {
   "cell_type": "code",
   "execution_count": 7,
   "metadata": {},
   "outputs": [
    {
     "data": {
      "text/html": [
       "<div>\n",
       "<style scoped>\n",
       "    .dataframe tbody tr th:only-of-type {\n",
       "        vertical-align: middle;\n",
       "    }\n",
       "\n",
       "    .dataframe tbody tr th {\n",
       "        vertical-align: top;\n",
       "    }\n",
       "\n",
       "    .dataframe thead th {\n",
       "        text-align: right;\n",
       "    }\n",
       "</style>\n",
       "<table border=\"1\" class=\"dataframe\">\n",
       "  <thead>\n",
       "    <tr style=\"text-align: right;\">\n",
       "      <th></th>\n",
       "      <th>num_1</th>\n",
       "      <th>num_2</th>\n",
       "      <th>num_4</th>\n",
       "      <th>num_6</th>\n",
       "      <th>num_7</th>\n",
       "      <th>cat_1</th>\n",
       "      <th>num_8</th>\n",
       "      <th>num_10</th>\n",
       "      <th>num_13</th>\n",
       "      <th>num_14</th>\n",
       "      <th>...</th>\n",
       "      <th>num_413</th>\n",
       "      <th>cat_132</th>\n",
       "      <th>cat_133</th>\n",
       "      <th>num_414</th>\n",
       "      <th>num_415</th>\n",
       "      <th>num_416</th>\n",
       "      <th>cat_134</th>\n",
       "      <th>cat_135</th>\n",
       "      <th>id</th>\n",
       "      <th>gb</th>\n",
       "    </tr>\n",
       "  </thead>\n",
       "  <tbody>\n",
       "    <tr>\n",
       "      <th>0</th>\n",
       "      <td>1377.3</td>\n",
       "      <td>3712.9</td>\n",
       "      <td>1303.0</td>\n",
       "      <td>1281.7</td>\n",
       "      <td>43.0</td>\n",
       "      <td>1</td>\n",
       "      <td>195.0</td>\n",
       "      <td>27.4</td>\n",
       "      <td>2210.0</td>\n",
       "      <td>12970.8</td>\n",
       "      <td>...</td>\n",
       "      <td>11327.5</td>\n",
       "      <td>1</td>\n",
       "      <td>1</td>\n",
       "      <td>28162496.65</td>\n",
       "      <td>0.0</td>\n",
       "      <td>0.07</td>\n",
       "      <td>1</td>\n",
       "      <td>1</td>\n",
       "      <td>1</td>\n",
       "      <td>0</td>\n",
       "    </tr>\n",
       "    <tr>\n",
       "      <th>1</th>\n",
       "      <td>20.0</td>\n",
       "      <td>13.4</td>\n",
       "      <td>565.0</td>\n",
       "      <td>357.2</td>\n",
       "      <td>19.0</td>\n",
       "      <td>1</td>\n",
       "      <td>170.0</td>\n",
       "      <td>NaN</td>\n",
       "      <td>68.0</td>\n",
       "      <td>123.6</td>\n",
       "      <td>...</td>\n",
       "      <td>168.6</td>\n",
       "      <td>1</td>\n",
       "      <td>1</td>\n",
       "      <td>989383.82</td>\n",
       "      <td>0.0</td>\n",
       "      <td>0.56</td>\n",
       "      <td>2</td>\n",
       "      <td>1</td>\n",
       "      <td>2</td>\n",
       "      <td>0</td>\n",
       "    </tr>\n",
       "    <tr>\n",
       "      <th>4</th>\n",
       "      <td>150.6</td>\n",
       "      <td>1.8</td>\n",
       "      <td>2294.0</td>\n",
       "      <td>107.6</td>\n",
       "      <td>76.0</td>\n",
       "      <td>1</td>\n",
       "      <td>196.0</td>\n",
       "      <td>5.3</td>\n",
       "      <td>33.0</td>\n",
       "      <td>71.6</td>\n",
       "      <td>...</td>\n",
       "      <td>209.1</td>\n",
       "      <td>1</td>\n",
       "      <td>1</td>\n",
       "      <td>87444.51</td>\n",
       "      <td>0.0</td>\n",
       "      <td>0.01</td>\n",
       "      <td>3</td>\n",
       "      <td>1</td>\n",
       "      <td>3</td>\n",
       "      <td>0</td>\n",
       "    </tr>\n",
       "    <tr>\n",
       "      <th>5</th>\n",
       "      <td>11.4</td>\n",
       "      <td>178.0</td>\n",
       "      <td>1236.0</td>\n",
       "      <td>350.6</td>\n",
       "      <td>41.0</td>\n",
       "      <td>1</td>\n",
       "      <td>117.0</td>\n",
       "      <td>25.2</td>\n",
       "      <td>39.0</td>\n",
       "      <td>57.6</td>\n",
       "      <td>...</td>\n",
       "      <td>56.9</td>\n",
       "      <td>1</td>\n",
       "      <td>1</td>\n",
       "      <td>297608.00</td>\n",
       "      <td>0.0</td>\n",
       "      <td>0.08</td>\n",
       "      <td>4</td>\n",
       "      <td>1</td>\n",
       "      <td>4</td>\n",
       "      <td>0</td>\n",
       "    </tr>\n",
       "    <tr>\n",
       "      <th>6</th>\n",
       "      <td>5372.0</td>\n",
       "      <td>3386.0</td>\n",
       "      <td>1340.0</td>\n",
       "      <td>14.0</td>\n",
       "      <td>45.0</td>\n",
       "      <td>1</td>\n",
       "      <td>9.0</td>\n",
       "      <td>716.0</td>\n",
       "      <td>401.0</td>\n",
       "      <td>2447.0</td>\n",
       "      <td>...</td>\n",
       "      <td>31.0</td>\n",
       "      <td>1</td>\n",
       "      <td>1</td>\n",
       "      <td>6614247.89</td>\n",
       "      <td>0.0</td>\n",
       "      <td>0.20</td>\n",
       "      <td>1</td>\n",
       "      <td>1</td>\n",
       "      <td>5</td>\n",
       "      <td>0</td>\n",
       "    </tr>\n",
       "  </tbody>\n",
       "</table>\n",
       "<p>5 rows × 381 columns</p>\n",
       "</div>"
      ],
      "text/plain": [
       "    num_1   num_2   num_4   num_6  num_7  cat_1  num_8  num_10  num_13  \\\n",
       "0  1377.3  3712.9  1303.0  1281.7   43.0      1  195.0    27.4  2210.0   \n",
       "1    20.0    13.4   565.0   357.2   19.0      1  170.0     NaN    68.0   \n",
       "4   150.6     1.8  2294.0   107.6   76.0      1  196.0     5.3    33.0   \n",
       "5    11.4   178.0  1236.0   350.6   41.0      1  117.0    25.2    39.0   \n",
       "6  5372.0  3386.0  1340.0    14.0   45.0      1    9.0   716.0   401.0   \n",
       "\n",
       "    num_14  ...  num_413  cat_132  cat_133      num_414  num_415  num_416  \\\n",
       "0  12970.8  ...  11327.5        1        1  28162496.65      0.0     0.07   \n",
       "1    123.6  ...    168.6        1        1    989383.82      0.0     0.56   \n",
       "4     71.6  ...    209.1        1        1     87444.51      0.0     0.01   \n",
       "5     57.6  ...     56.9        1        1    297608.00      0.0     0.08   \n",
       "6   2447.0  ...     31.0        1        1   6614247.89      0.0     0.20   \n",
       "\n",
       "   cat_134  cat_135  id  gb  \n",
       "0        1        1   1   0  \n",
       "1        2        1   2   0  \n",
       "4        3        1   3   0  \n",
       "5        4        1   4   0  \n",
       "6        1        1   5   0  \n",
       "\n",
       "[5 rows x 381 columns]"
      ]
     },
     "execution_count": 7,
     "metadata": {},
     "output_type": "execute_result"
    }
   ],
   "source": [
    "df_without_nan.head()\n"
   ]
  },
  {
   "cell_type": "markdown",
   "metadata": {},
   "source": [
    "##### Пропуски, які залишилися, заповнимо пізніше"
   ]
  },
  {
   "cell_type": "markdown",
   "metadata": {},
   "source": [
    "### Перевіримо кореляцію"
   ]
  },
  {
   "cell_type": "markdown",
   "metadata": {},
   "source": [
    "Визначимо, чи маємо колонки кореляція між якими є досить вискокою (0.9 по модулю). Якщо кореляція між двома змінними буде більше, ніж 0.9, то ми маємо справу з атрибутами, які можуть замінити один одного. Тож, при знаходженні такої поведінки, видалимо одну з колонок, так як вона пояснюється іншою.\n",
    "\n",
    "Створимо матрицю кореляцій, виключемо з неї головну діагональ та нижній трикутник (так як вона симетрична, а на діагоналі присутні кореляції колонок самих з собою).\n",
    "\n",
    "Колонки, кореляція яких більше 0.9 по модулю видаляємо."
   ]
  },
  {
   "cell_type": "code",
   "execution_count": 8,
   "metadata": {},
   "outputs": [
    {
     "name": "stdout",
     "output_type": "stream",
     "text": [
      "Колонки, які необхідно видалити\n",
      "['num_7', 'num_33', 'cat_13', 'num_62', 'num_64', 'num_69', 'num_71', 'num_75', 'num_80', 'num_81', 'num_83', 'num_84', 'cat_29', 'cat_30', 'num_92', 'num_97', 'num_107', 'num_111', 'num_113', 'num_114', 'num_117', 'num_119', 'num_124', 'num_128', 'num_134', 'cat_42', 'num_136', 'num_137', 'num_144', 'num_148', 'cat_53', 'num_155', 'num_168', 'num_172', 'num_173', 'num_175', 'num_181', 'num_186', 'num_187', 'num_193', 'num_194', 'num_196', 'cat_62', 'cat_66', 'num_206', 'cat_70', 'num_211', 'num_212', 'num_214', 'num_218', 'num_228', 'num_232', 'num_234', 'num_235', 'num_237', 'num_238', 'num_239', 'cat_79', 'num_244', 'cat_86', 'cat_92', 'num_264', 'num_265', 'num_267', 'num_268', 'num_269', 'num_270', 'cat_93', 'num_275', 'cat_96', 'num_282', 'num_288', 'num_298', 'num_299', 'num_301', 'num_303', 'num_305', 'num_306', 'num_307', 'num_309', 'num_311', 'num_312', 'num_313', 'num_314', 'num_321', 'num_330', 'num_331', 'num_338', 'num_339', 'num_340', 'num_344', 'num_346', 'num_351', 'num_357', 'num_358', 'num_364', 'cat_120', 'num_371', 'num_372', 'num_378', 'num_379', 'num_380', 'num_381', 'num_382', 'num_384', 'num_385', 'cat_122', 'num_389', 'cat_125', 'num_393', 'cat_127', 'num_396', 'num_400', 'num_402', 'num_404', 'num_405', 'num_406', 'num_407', 'num_409', 'num_410', 'num_411', 'num_412', 'num_414']\n"
     ]
    }
   ],
   "source": [
    "corr_matrix = df_without_nan.corr().abs()\n",
    "up_triangle = corr_matrix.where(np.triu(np.ones(corr_matrix.shape),k=1).astype(np.bool))\n",
    "corr_to_drop = [column for column in up_triangle.columns if any(up_triangle[column] > 0.9)]\n",
    "print(\"Колонки, які необхідно видалити\")\n",
    "print(corr_to_drop)"
   ]
  },
  {
   "cell_type": "code",
   "execution_count": 9,
   "metadata": {},
   "outputs": [
    {
     "name": "stdout",
     "output_type": "stream",
     "text": [
      "Кількість змінних, які мають досить високу кореляцію (0.9 по модулю) з іншими змінними - 123\n"
     ]
    }
   ],
   "source": [
    "print(f\"Кількість змінних, які мають досить високу кореляцію (0.9 по модулю) з іншими змінними - {len(corr_to_drop)}\")"
   ]
  },
  {
   "cell_type": "code",
   "execution_count": 10,
   "metadata": {},
   "outputs": [
    {
     "name": "stdout",
     "output_type": "stream",
     "text": [
      "Результуючий Data Frame має 258 колонок\n"
     ]
    }
   ],
   "source": [
    "df_res = pd.DataFrame(df_without_nan.drop(corr_to_drop, axis=1, inplace = False))\n",
    "print(f\"Результуючий Data Frame має {df_res.shape[1]} колонок\") \n"
   ]
  },
  {
   "cell_type": "code",
   "execution_count": 11,
   "metadata": {},
   "outputs": [
    {
     "data": {
      "text/html": [
       "<div>\n",
       "<style scoped>\n",
       "    .dataframe tbody tr th:only-of-type {\n",
       "        vertical-align: middle;\n",
       "    }\n",
       "\n",
       "    .dataframe tbody tr th {\n",
       "        vertical-align: top;\n",
       "    }\n",
       "\n",
       "    .dataframe thead th {\n",
       "        text-align: right;\n",
       "    }\n",
       "</style>\n",
       "<table border=\"1\" class=\"dataframe\">\n",
       "  <thead>\n",
       "    <tr style=\"text-align: right;\">\n",
       "      <th></th>\n",
       "      <th>num_1</th>\n",
       "      <th>num_2</th>\n",
       "      <th>num_4</th>\n",
       "      <th>num_6</th>\n",
       "      <th>cat_1</th>\n",
       "      <th>num_8</th>\n",
       "      <th>num_10</th>\n",
       "      <th>num_13</th>\n",
       "      <th>num_14</th>\n",
       "      <th>num_15</th>\n",
       "      <th>...</th>\n",
       "      <th>num_408</th>\n",
       "      <th>num_413</th>\n",
       "      <th>cat_132</th>\n",
       "      <th>cat_133</th>\n",
       "      <th>num_415</th>\n",
       "      <th>num_416</th>\n",
       "      <th>cat_134</th>\n",
       "      <th>cat_135</th>\n",
       "      <th>id</th>\n",
       "      <th>gb</th>\n",
       "    </tr>\n",
       "  </thead>\n",
       "  <tbody>\n",
       "    <tr>\n",
       "      <th>0</th>\n",
       "      <td>1377.3</td>\n",
       "      <td>3712.9</td>\n",
       "      <td>1303.0</td>\n",
       "      <td>1281.7</td>\n",
       "      <td>1</td>\n",
       "      <td>195.0</td>\n",
       "      <td>27.4</td>\n",
       "      <td>2210.0</td>\n",
       "      <td>12970.8</td>\n",
       "      <td>0.0</td>\n",
       "      <td>...</td>\n",
       "      <td>0.0</td>\n",
       "      <td>11327.5</td>\n",
       "      <td>1</td>\n",
       "      <td>1</td>\n",
       "      <td>0.0</td>\n",
       "      <td>0.07</td>\n",
       "      <td>1</td>\n",
       "      <td>1</td>\n",
       "      <td>1</td>\n",
       "      <td>0</td>\n",
       "    </tr>\n",
       "    <tr>\n",
       "      <th>1</th>\n",
       "      <td>20.0</td>\n",
       "      <td>13.4</td>\n",
       "      <td>565.0</td>\n",
       "      <td>357.2</td>\n",
       "      <td>1</td>\n",
       "      <td>170.0</td>\n",
       "      <td>NaN</td>\n",
       "      <td>68.0</td>\n",
       "      <td>123.6</td>\n",
       "      <td>2.0</td>\n",
       "      <td>...</td>\n",
       "      <td>0.0</td>\n",
       "      <td>168.6</td>\n",
       "      <td>1</td>\n",
       "      <td>1</td>\n",
       "      <td>0.0</td>\n",
       "      <td>0.56</td>\n",
       "      <td>2</td>\n",
       "      <td>1</td>\n",
       "      <td>2</td>\n",
       "      <td>0</td>\n",
       "    </tr>\n",
       "    <tr>\n",
       "      <th>4</th>\n",
       "      <td>150.6</td>\n",
       "      <td>1.8</td>\n",
       "      <td>2294.0</td>\n",
       "      <td>107.6</td>\n",
       "      <td>1</td>\n",
       "      <td>196.0</td>\n",
       "      <td>5.3</td>\n",
       "      <td>33.0</td>\n",
       "      <td>71.6</td>\n",
       "      <td>1.0</td>\n",
       "      <td>...</td>\n",
       "      <td>79.6</td>\n",
       "      <td>209.1</td>\n",
       "      <td>1</td>\n",
       "      <td>1</td>\n",
       "      <td>0.0</td>\n",
       "      <td>0.01</td>\n",
       "      <td>3</td>\n",
       "      <td>1</td>\n",
       "      <td>3</td>\n",
       "      <td>0</td>\n",
       "    </tr>\n",
       "    <tr>\n",
       "      <th>5</th>\n",
       "      <td>11.4</td>\n",
       "      <td>178.0</td>\n",
       "      <td>1236.0</td>\n",
       "      <td>350.6</td>\n",
       "      <td>1</td>\n",
       "      <td>117.0</td>\n",
       "      <td>25.2</td>\n",
       "      <td>39.0</td>\n",
       "      <td>57.6</td>\n",
       "      <td>2.0</td>\n",
       "      <td>...</td>\n",
       "      <td>0.0</td>\n",
       "      <td>56.9</td>\n",
       "      <td>1</td>\n",
       "      <td>1</td>\n",
       "      <td>0.0</td>\n",
       "      <td>0.08</td>\n",
       "      <td>4</td>\n",
       "      <td>1</td>\n",
       "      <td>4</td>\n",
       "      <td>0</td>\n",
       "    </tr>\n",
       "    <tr>\n",
       "      <th>6</th>\n",
       "      <td>5372.0</td>\n",
       "      <td>3386.0</td>\n",
       "      <td>1340.0</td>\n",
       "      <td>14.0</td>\n",
       "      <td>1</td>\n",
       "      <td>9.0</td>\n",
       "      <td>716.0</td>\n",
       "      <td>401.0</td>\n",
       "      <td>2447.0</td>\n",
       "      <td>0.0</td>\n",
       "      <td>...</td>\n",
       "      <td>0.0</td>\n",
       "      <td>31.0</td>\n",
       "      <td>1</td>\n",
       "      <td>1</td>\n",
       "      <td>0.0</td>\n",
       "      <td>0.20</td>\n",
       "      <td>1</td>\n",
       "      <td>1</td>\n",
       "      <td>5</td>\n",
       "      <td>0</td>\n",
       "    </tr>\n",
       "  </tbody>\n",
       "</table>\n",
       "<p>5 rows × 258 columns</p>\n",
       "</div>"
      ],
      "text/plain": [
       "    num_1   num_2   num_4   num_6  cat_1  num_8  num_10  num_13   num_14  \\\n",
       "0  1377.3  3712.9  1303.0  1281.7      1  195.0    27.4  2210.0  12970.8   \n",
       "1    20.0    13.4   565.0   357.2      1  170.0     NaN    68.0    123.6   \n",
       "4   150.6     1.8  2294.0   107.6      1  196.0     5.3    33.0     71.6   \n",
       "5    11.4   178.0  1236.0   350.6      1  117.0    25.2    39.0     57.6   \n",
       "6  5372.0  3386.0  1340.0    14.0      1    9.0   716.0   401.0   2447.0   \n",
       "\n",
       "   num_15  ...  num_408  num_413  cat_132  cat_133  num_415  num_416  cat_134  \\\n",
       "0     0.0  ...      0.0  11327.5        1        1      0.0     0.07        1   \n",
       "1     2.0  ...      0.0    168.6        1        1      0.0     0.56        2   \n",
       "4     1.0  ...     79.6    209.1        1        1      0.0     0.01        3   \n",
       "5     2.0  ...      0.0     56.9        1        1      0.0     0.08        4   \n",
       "6     0.0  ...      0.0     31.0        1        1      0.0     0.20        1   \n",
       "\n",
       "   cat_135  id  gb  \n",
       "0        1   1   0  \n",
       "1        1   2   0  \n",
       "4        1   3   0  \n",
       "5        1   4   0  \n",
       "6        1   5   0  \n",
       "\n",
       "[5 rows x 258 columns]"
      ]
     },
     "execution_count": 11,
     "metadata": {},
     "output_type": "execute_result"
    }
   ],
   "source": [
    "df_res.head()"
   ]
  },
  {
   "cell_type": "markdown",
   "metadata": {},
   "source": [
    "### Побудуємо Pipeline"
   ]
  },
  {
   "cell_type": "markdown",
   "metadata": {},
   "source": [
    "Спочатку виділимо окремо колонки з категоріальними та числовими даними, також видалимо колонку 'id'.\n"
   ]
  },
  {
   "cell_type": "code",
   "execution_count": 12,
   "metadata": {},
   "outputs": [
    {
     "name": "stdout",
     "output_type": "stream",
     "text": [
      "Колонки з категоріальними даними: ['cat_1', 'cat_2', 'cat_3', 'cat_4', 'cat_5', 'cat_6', 'cat_7', 'cat_8', 'cat_9', 'cat_10', 'cat_11', 'cat_12', 'cat_14', 'cat_15', 'cat_16', 'cat_17', 'cat_18', 'cat_19', 'cat_20', 'cat_21', 'cat_22', 'cat_23', 'cat_24', 'cat_25', 'cat_26', 'cat_27', 'cat_28', 'cat_31', 'cat_32', 'cat_33', 'cat_34', 'cat_35', 'cat_36', 'cat_37', 'cat_38', 'cat_39', 'cat_40', 'cat_41', 'cat_43', 'cat_44', 'cat_45', 'cat_46', 'cat_47', 'cat_48', 'cat_49', 'cat_50', 'cat_51', 'cat_52', 'cat_54', 'cat_55', 'cat_56', 'cat_57', 'cat_58', 'cat_59', 'cat_60', 'cat_61', 'cat_63', 'cat_64', 'cat_65', 'cat_67', 'cat_68', 'cat_69', 'cat_71', 'cat_72', 'cat_73', 'cat_74', 'cat_75', 'cat_76', 'cat_77', 'cat_78', 'cat_80', 'cat_81', 'cat_82', 'cat_83', 'cat_84', 'cat_85', 'cat_87', 'cat_88', 'cat_89', 'cat_90', 'cat_91', 'cat_94', 'cat_95', 'cat_97', 'cat_98', 'cat_99', 'cat_100', 'cat_101', 'cat_102', 'cat_103', 'cat_104', 'cat_105', 'cat_106', 'cat_107', 'cat_108', 'cat_109', 'cat_110', 'cat_111', 'cat_112', 'cat_113', 'cat_114', 'cat_115', 'cat_116', 'cat_117', 'cat_118', 'cat_119', 'cat_121', 'cat_123', 'cat_124', 'cat_126', 'cat_128', 'cat_129', 'cat_130', 'cat_131', 'cat_132', 'cat_133', 'cat_134', 'cat_135']\n",
      "Колонки з числовими даними: ['num_1', 'num_2', 'num_4', 'num_6', 'num_8', 'num_10', 'num_13', 'num_14', 'num_15', 'num_19', 'num_26', 'num_27', 'num_28', 'num_29', 'num_30', 'num_32', 'num_38', 'num_40', 'num_41', 'num_43', 'num_45', 'num_50', 'num_52', 'num_53', 'num_55', 'num_57', 'num_58', 'num_59', 'num_60', 'num_67', 'num_68', 'num_70', 'num_72', 'num_77', 'num_79', 'num_87', 'num_88', 'num_94', 'num_95', 'num_102', 'num_104', 'num_105', 'num_110', 'num_112', 'num_115', 'num_120', 'num_122', 'num_123', 'num_129', 'num_130', 'num_132', 'num_133', 'num_139', 'num_141', 'num_145', 'num_147', 'num_151', 'num_154', 'num_158', 'num_159', 'num_161', 'num_162', 'num_164', 'num_165', 'num_167', 'num_169', 'num_174', 'num_176', 'num_178', 'num_179', 'num_180', 'num_183', 'num_184', 'num_185', 'num_188', 'num_191', 'num_197', 'num_200', 'num_201', 'num_202', 'num_203', 'num_205', 'num_209', 'num_213', 'num_216', 'num_219', 'num_220', 'num_225', 'num_230', 'num_231', 'num_233', 'num_240', 'num_246', 'num_252', 'num_255', 'num_259', 'num_260', 'num_263', 'num_276', 'num_277', 'num_283', 'num_284', 'num_285', 'num_287', 'num_289', 'num_290', 'num_292', 'num_294', 'num_296', 'num_304', 'num_315', 'num_317', 'num_318', 'num_319', 'num_320', 'num_327', 'num_332', 'num_341', 'num_345', 'num_347', 'num_350', 'num_352', 'num_353', 'num_354', 'num_355', 'num_359', 'num_360', 'num_361', 'num_366', 'num_367', 'num_370', 'num_373', 'num_387', 'num_395', 'num_408', 'num_413', 'num_415', 'num_416']\n"
     ]
    }
   ],
   "source": [
    "cat_columns = []\n",
    "num_columns = []\n",
    "for col in df_res.columns:\n",
    "    if col[0:3] == 'cat':\n",
    "        cat_columns.append(col)\n",
    "    if col[0:3] == 'num':\n",
    "        num_columns.append(col)\n",
    "print(f\"Колонки з категоріальними даними: {cat_columns}\")\n",
    "print(f\"Колонки з числовими даними: {num_columns}\")"
   ]
  },
  {
   "cell_type": "code",
   "execution_count": 13,
   "metadata": {},
   "outputs": [],
   "source": [
    "df_res.drop('id', inplace = True, axis = 1)"
   ]
  },
  {
   "cell_type": "markdown",
   "metadata": {},
   "source": [
    "Розділимо датасет на тренувальний та валідаційний."
   ]
  },
  {
   "cell_type": "code",
   "execution_count": 14,
   "metadata": {},
   "outputs": [],
   "source": [
    "X = df_res.drop('gb', inplace = False, axis = 1)\n",
    "y = df_res['gb']\n",
    "X_train, X_valid, y_train, y_valid = train_test_split(X, y, test_size=0.2, random_state=0)"
   ]
  },
  {
   "cell_type": "markdown",
   "metadata": {},
   "source": [
    "Подивимося на цільову змінну"
   ]
  },
  {
   "cell_type": "code",
   "execution_count": 15,
   "metadata": {},
   "outputs": [
    {
     "data": {
      "text/plain": [
       "<matplotlib.axes._subplots.AxesSubplot at 0x20fd61a6100>"
      ]
     },
     "execution_count": 15,
     "metadata": {},
     "output_type": "execute_result"
    },
    {
     "data": {
      "image/png": "[encoded data removed]",
      "text/plain": [
       "<Figure size 432x288 with 1 Axes>"
      ]
     },
     "metadata": {
      "needs_background": "light"
     },
     "output_type": "display_data"
    }
   ],
   "source": [
    "df_res['gb'].value_counts().plot(kind='bar')"
   ]
  },
  {
   "cell_type": "markdown",
   "metadata": {},
   "source": [
    "Цільова змінна незбалансована, значення 0 переважає над 1"
   ]
  },
  {
   "cell_type": "markdown",
   "metadata": {},
   "source": [
    "Побудуємо Pipeline.\n",
    "Заповнимо пропущені значення та використаємо OneHotEncoding для категоріальних змінних.\n",
    "Використаємо RandomForestClassifier та GridSearch"
   ]
  },
  {
   "cell_type": "code",
   "execution_count": 77,
   "metadata": {},
   "outputs": [
    {
     "name": "stdout",
     "output_type": "stream",
     "text": [
      "Best params:\n",
      "{'classifier__class_weight': {1: 40}, 'classifier__max_depth': 16, 'classifier__n_estimators': 100, 'classifier__random_state': 0}\n"
     ]
    }
   ],
   "source": [
    "numeric_transformer = Pipeline(\n",
    "    steps=[(\"imputer\", SimpleImputer(strategy=\"median\")), (\"scaler\", StandardScaler())]\n",
    ")\n",
    "\n",
    "categorical_transformer = Pipeline(\n",
    "    steps=[(\"imputer\", SimpleImputer(strategy=\"most_frequent\")), ('onehot', OneHotEncoder(handle_unknown='ignore'))]\n",
    ")\n",
    "\n",
    "preprocessor = ColumnTransformer(\n",
    "    transformers=[\n",
    "        (\"num\", numeric_transformer, num_columns),\n",
    "        (\"cat\", categorical_transformer, cat_columns),\n",
    "    ]\n",
    ")\n",
    "\n",
    "clf = Pipeline(\n",
    "    steps=[(\"preprocessor\", preprocessor), (\"classifier\", RandomForestClassifier())]\n",
    ")\n",
    "\n",
    "param_grid = {\n",
    "    'classifier__n_estimators': [20,40,100],\n",
    "    'classifier__max_depth': [8, 10, 16], \n",
    "    'classifier__random_state': [0],\n",
    "    'classifier__class_weight': [{1:5}, {1:20}, {1:40}]\n",
    "}\n",
    "\n",
    "grid_search = GridSearchCV(clf, param_grid, cv=5)\n",
    "grid_search.fit(X_train, y_train)\n",
    "\n",
    "print(\"Best params:\")\n",
    "print(grid_search.best_params_)\n"
   ]
  },
  {
   "cell_type": "markdown",
   "metadata": {},
   "source": [
    "Отримали параметри для нашої моделі, за допомогою GridSearchCV. А саме вагу(для відповідного класу (1), який має набагато меншу кількість значень) = 40, максимальну глибину дерева = 16, число дерев = 100"
   ]
  },
  {
   "cell_type": "code",
   "execution_count": 90,
   "metadata": {},
   "outputs": [
    {
     "name": "stdout",
     "output_type": "stream",
     "text": [
      "Значення для наших параметрів моделі: 0.988722706425356\n"
     ]
    }
   ],
   "source": [
    "print(f\"Значення для наших параметрів моделі: {grid_search.best_score_}\")"
   ]
  },
  {
   "cell_type": "code",
   "execution_count": 81,
   "metadata": {},
   "outputs": [
    {
     "data": {
      "text/plain": [
       "Pipeline(steps=[('preprocessor',\n",
       "                 ColumnTransformer(transformers=[('num',\n",
       "                                                  Pipeline(steps=[('imputer',\n",
       "                                                                   SimpleImputer(strategy='median')),\n",
       "                                                                  ('scaler',\n",
       "                                                                   StandardScaler())]),\n",
       "                                                  ['num_1', 'num_2', 'num_4',\n",
       "                                                   'num_6', 'num_8', 'num_10',\n",
       "                                                   'num_13', 'num_14', 'num_15',\n",
       "                                                   'num_19', 'num_26', 'num_27',\n",
       "                                                   'num_28', 'num_29', 'num_30',\n",
       "                                                   'num_32', 'num_38', 'num_40',\n",
       "                                                   'num_41', 'num_43', 'num_45',\n",
       "                                                   'nu...\n",
       "                                                  ['cat_1', 'cat_2', 'cat_3',\n",
       "                                                   'cat_4', 'cat_5', 'cat_6',\n",
       "                                                   'cat_7', 'cat_8', 'cat_9',\n",
       "                                                   'cat_10', 'cat_11', 'cat_12',\n",
       "                                                   'cat_14', 'cat_15', 'cat_16',\n",
       "                                                   'cat_17', 'cat_18', 'cat_19',\n",
       "                                                   'cat_20', 'cat_21', 'cat_22',\n",
       "                                                   'cat_23', 'cat_24', 'cat_25',\n",
       "                                                   'cat_26', 'cat_27', 'cat_28',\n",
       "                                                   'cat_31', 'cat_32', 'cat_33', ...])])),\n",
       "                ('classifier',\n",
       "                 RandomForestClassifier(class_weight={1: 40}, max_depth=16,\n",
       "                                        random_state=0))])"
      ]
     },
     "execution_count": 81,
     "metadata": {},
     "output_type": "execute_result"
    }
   ],
   "source": [
    "params = {'classifier__n_estimators': 100,\n",
    "        'classifier__max_depth': 16, \n",
    "        'classifier__random_state': 0,\n",
    "        'classifier__class_weight': {1:40}\n",
    "         }\n",
    "clf.set_params(**params)"
   ]
  },
  {
   "cell_type": "code",
   "execution_count": 82,
   "metadata": {},
   "outputs": [
    {
     "name": "stdout",
     "output_type": "stream",
     "text": [
      "Точність(accuracy) нашої моделі: 0.9910531220876049\n"
     ]
    }
   ],
   "source": [
    "clf.fit(X_train, y_train)\n",
    "print(f\"Точність(accuracy) нашої моделі: {clf.score(X_valid, y_valid)}\")"
   ]
  },
  {
   "cell_type": "markdown",
   "metadata": {},
   "source": [
    "Ми отримали досить високу точність нашої моделі, але ми маємо незбалансовані класи, тому вимірювання точності для даної моделі не є досить доцільним. Скористаємося метрикою f1."
   ]
  },
  {
   "cell_type": "code",
   "execution_count": 87,
   "metadata": {},
   "outputs": [
    {
     "name": "stdout",
     "output_type": "stream",
     "text": [
      "f1: 0.7241379310344828\n"
     ]
    }
   ],
   "source": [
    "y_pred = clf.predict(X_valid)\n",
    "print(f\"f1: {f1_score(y_pred, y_valid)}\")\n"
   ]
  },
  {
   "cell_type": "markdown",
   "metadata": {},
   "source": [
    "Побудуємо Confusion Matrix (матрицю суперечностей), щоб наглядно перевірити правильністі визначення класів."
   ]
  },
  {
   "cell_type": "code",
   "execution_count": 88,
   "metadata": {},
   "outputs": [
    {
     "data": {
      "text/plain": [
       "<matplotlib.axes._subplots.AxesSubplot at 0x20f8194ad90>"
      ]
     },
     "execution_count": 88,
     "metadata": {},
     "output_type": "execute_result"
    },
    {
     "data": {
      "image/png": "[encoded data removed]",
      "text/plain": [
       "<Figure size 1152x504 with 2 Axes>"
      ]
     },
     "metadata": {},
     "output_type": "display_data"
    }
   ],
   "source": [
    "matrix = confusion_matrix(y_valid, y_pred)\n",
    "matrix = matrix.astype('float') / matrix.sum(axis=1)[:, np.newaxis]\n",
    "\n",
    "# Build the plot\n",
    "plt.figure(figsize=(16,7))\n",
    "sns.set(font_scale=1.4)\n",
    "sns.heatmap(matrix, annot=True, annot_kws={'size':10},\n",
    "            cmap=plt.cm.Greens, linewidths=0.2)"
   ]
  },
  {
   "cell_type": "markdown",
   "metadata": {},
   "source": [
    "Як результат ми отримали модель, яка з вірогідністю 100% передбачає клас 0 та з вірогідністю 57% передбачає клас 1. Отримані результати потребують доопрацювання(ваги для класу 1 скоріше за все повинні бути більшими, якщо звертату увагу в скількі разів клас 0 преважає клас 1), для якого потрібно більше інформації про самі дані, більше часу для підбору моделі та її параметрів, кращі потужності. Як альтернатива, можна було скористатися XGBoost, але підбор та побудова моделі забере досить велику кількість часу. Як я здогадуюся, датасет побудований на основі даних про підозрілі транзакції, ця задача завжди потребувала делікатного вирішення."
   ]
  },
  {
   "cell_type": "code",
   "execution_count": null,
   "metadata": {},
   "outputs": [],
   "source": []
  },
  {
   "cell_type": "code",
   "execution_count": null,
   "metadata": {},
   "outputs": [],
   "source": []
  }
 ],
 "metadata": {
  "kernelspec": {
   "display_name": "Python 3",
   "language": "python",
   "name": "python3"
  },
  "language_info": {
   "codemirror_mode": {
    "name": "ipython",
    "version": 3
   },
   "file_extension": ".py",
   "mimetype": "text/x-python",
   "name": "python",
   "nbconvert_exporter": "python",
   "pygments_lexer": "ipython3",
   "version": "3.8.3"
  }
 },
 "nbformat": 4,
 "nbformat_minor": 4
}
